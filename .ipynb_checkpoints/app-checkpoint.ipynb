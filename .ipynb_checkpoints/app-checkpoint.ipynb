{
 "cells": [
  {
   "cell_type": "markdown",
   "metadata": {},
   "source": [
    "# Convolutional Neural Networks\n",
    "\n",
    "## Project: Write an Algorithm for Landmark Classification\n",
    "\n",
    "### A simple app\n",
    "\n",
    "In this notebook we build a very simple app that uses our exported model.\n",
    "\n",
    "> <img src=\"static_images/icons/noun-info-2558213.png\" alt=\"?\" style=\"width:25px\"/> Note how we are not importing anything from our source code (we do not use any module from the ``src`` directory). This is because the exported model, differently from the model weights, is a standalone serialization of our model and therefore it does not need anything else. You can ship that file to anybody, and as long as they can import ``torch``, they will be able to use your model. This is very important for releasing pytorch models to production.\n",
    "\n",
    "### Test your app\n",
    "Go to a search engine for images (like Google Images) and search for images of some of the landmarks, like the Eiffel Tower, the Golden Gate Bridge, Machu Picchu and so on. Save a few examples locally, then upload them to your app to see how your model behaves!\n",
    "\n",
    "The app will show the top 5 classes that the model think are most relevant for the picture you have uploaded"
   ]
  },
  {
   "cell_type": "markdown",
   "metadata": {},
   "source": [
    "## (optional) Standalone app or web app\n",
    "\n",
    "You can run this notebook as a standalone app on your computer by following these steps:\n",
    "\n",
    "1. Download this notebook in a directory on your machine\n",
    "2. Download the model export (for example, ``checkpoints/transfer_exported.pt``) in a subdirectory called ``checkpoints`` within the directory where you save the app.ipynb notebook\n",
    "3. Install voila if you don't have it already (``pip install voila``)\n",
    "4. Run your app: ``voila app.ipynb --show_tracebacks=True``\n",
    "5. Customize your notebook to make your app prettier and rerun voila\n",
    "\n",
    "You can also deploy this app as a website using Binder: https://voila.readthedocs.io/en/stable/deploy.html#deployment-on-binder"
   ]
  },
  {
   "cell_type": "code",
   "execution_count": 3,
   "metadata": {},
   "outputs": [
    {
     "data": {
      "application/vnd.jupyter.widget-view+json": {
       "model_id": "85872973ab534701a9fbd6389c9b0d40",
       "version_major": 2,
       "version_minor": 0
      },
      "text/plain": [
       "FileUpload(value={}, accept='image/*', description='Upload')"
      ]
     },
     "metadata": {},
     "output_type": "display_data"
    },
    {
     "data": {
      "application/vnd.jupyter.widget-view+json": {
       "model_id": "9a4781195b5c432b9562734d226f529e",
       "version_major": 2,
       "version_minor": 0
      },
      "text/plain": [
       "Button(description='Predict', style=ButtonStyle())"
      ]
     },
     "metadata": {},
     "output_type": "display_data"
    },
    {
     "data": {
      "application/vnd.jupyter.widget-view+json": {
       "model_id": "fd611f7770bd4b90bdb679ae187ef52d",
       "version_major": 2,
       "version_minor": 0
      },
      "text/plain": [
       "Output()"
      ]
     },
     "metadata": {},
     "output_type": "display_data"
    }
   ],
   "source": [
    "# prediction.ipynb\n",
    "\n",
    "import torch\n",
    "import torchvision.transforms as transforms\n",
    "from PIL import Image\n",
    "import io\n",
    "import ipywidgets as widgets\n",
    "from IPython.display import display\n",
    "\n",
    "# Load your model\n",
    "model = torch.jit.load('checkpoints/transfer_exported.pt')\n",
    "model.eval()\n",
    "\n",
    "# Define image transformations\n",
    "transform = transforms.Compose([\n",
    "    transforms.Resize((224, 224)),\n",
    "    transforms.ToTensor(),\n",
    "])\n",
    "\n",
    "# Function to make predictions\n",
    "def predict(image):\n",
    "    image = transform(image).unsqueeze(0)  # Transform and add batch dimension\n",
    "    with torch.no_grad():\n",
    "        outputs = model(image)\n",
    "        _, predicted = torch.max(outputs, 1)\n",
    "    return predicted.item()\n",
    "\n",
    "# Create file upload widget\n",
    "upload = widgets.FileUpload(accept='image/*', multiple=False)\n",
    "\n",
    "# Create button to trigger prediction\n",
    "button = widgets.Button(description=\"Predict\")\n",
    "output = widgets.Output()\n",
    "\n",
    "def on_button_clicked(b):\n",
    "    with output:\n",
    "        output.clear_output()\n",
    "        image = Image.open(io.BytesIO(upload.data[-1]))\n",
    "        display(image)\n",
    "        pred = predict(image)\n",
    "        print(f'Prediction: {pred}')\n",
    "\n",
    "button.on_click(on_button_clicked)\n",
    "\n",
    "# Display widgets\n",
    "display(upload)\n",
    "display(button)\n",
    "display(output)"
   ]
  },
  {
   "cell_type": "markdown",
   "metadata": {},
   "source": [
    "# Create your submission archive\n",
    "\n",
    "Now that you are done with your project, please run the following cell. It will generate a file containing all the code you have written, as well as the notebooks. Please submit that file to complete your project"
   ]
  },
  {
   "cell_type": "code",
   "execution_count": null,
   "metadata": {},
   "outputs": [
    {
     "name": "stdout",
     "output_type": "stream",
     "text": [
      "executing: jupyter nbconvert --to html cnn_from_scratch.ipynb\n",
      "[NbConvertApp] Converting notebook cnn_from_scratch.ipynb to html\n",
      "[NbConvertApp] Writing 1439183 bytes to cnn_from_scratch.html\n",
      "executing: jupyter nbconvert --to html transfer_learning.ipynb\n",
      "[NbConvertApp] Converting notebook transfer_learning.ipynb to html\n",
      "[NbConvertApp] Writing 766242 bytes to transfer_learning.html\n",
      "executing: jupyter nbconvert --to html app.ipynb\n",
      "[NbConvertApp] Converting notebook app.ipynb to html\n",
      "/root/.local/lib/python3.7/site-packages/nbformat/__init__.py:93: MissingIDFieldWarning: Code cell is missing an id field, this will become a hard error in future nbformat versions. You may want to use `normalize()` on your notebooks before validations (available since nbformat 5.1.4). Previous versions of nbformat are fixing this issue transparently, and will stop doing so in the future.\n",
      "  validate(nb)\n",
      "[NbConvertApp] Writing 644371 bytes to app.html\n",
      "Adding files to submission_2024-07-22T13h34m.tar.gz\n",
      "src/helpers.py\n",
      "src/create_submit_pkg.py\n",
      "src/model.py\n",
      "src/train.py\n",
      "src/data.py\n",
      "src/optimization.py\n",
      "src/transfer.py\n",
      "src/__init__.py\n",
      "src/predictor.py\n",
      "cnn_from_scratch.ipynb\n",
      "transfer_learning.ipynb\n",
      "app.ipynb\n",
      "app.html\n",
      "cnn_from_scratch.html\n",
      "transfer_learning.html\n",
      "checkpoints/best_val_loss.pt\n"
     ]
    }
   ],
   "source": [
    "!python src/create_submit_pkg.py"
   ]
  },
  {
   "cell_type": "code",
   "execution_count": 7,
   "metadata": {},
   "outputs": [
    {
     "name": "stdout",
     "output_type": "stream",
     "text": [
      "Defaulting to user installation because normal site-packages is not writeable\n",
      "Requirement already up-to-date: markupsafe in /root/.local/lib/python3.7/site-packages (2.1.5)\n",
      "Requirement already up-to-date: jinja2 in /root/.local/lib/python3.7/site-packages (3.1.4)\n"
     ]
    }
   ],
   "source": [
    "\n",
    "!pip install --upgrade markupsafe jinja2\n"
   ]
  },
  {
   "cell_type": "code",
   "execution_count": 8,
   "metadata": {
    "scrolled": true
   },
   "outputs": [
    {
     "name": "stdout",
     "output_type": "stream",
     "text": [
      "Found existing installation: nbconvert 7.6.0\n",
      "Uninstalling nbconvert-7.6.0:\n",
      "  Would remove:\n",
      "    /root/.local/bin/jupyter-dejavu\n",
      "    /root/.local/bin/jupyter-nbconvert\n",
      "    /root/.local/lib/python3.7/site-packages/nbconvert-7.6.0.dist-info/*\n",
      "    /root/.local/lib/python3.7/site-packages/nbconvert/*\n",
      "    /root/.local/share/jupyter/nbconvert/templates/asciidoc/conf.json\n",
      "    /root/.local/share/jupyter/nbconvert/templates/asciidoc/index.asciidoc.j2\n",
      "    /root/.local/share/jupyter/nbconvert/templates/base/cell_id_anchor.j2\n",
      "    /root/.local/share/jupyter/nbconvert/templates/base/celltags.j2\n",
      "    /root/.local/share/jupyter/nbconvert/templates/base/display_priority.j2\n",
      "    /root/.local/share/jupyter/nbconvert/templates/base/jupyter_widgets.html.j2\n",
      "    /root/.local/share/jupyter/nbconvert/templates/base/mathjax.html.j2\n",
      "    /root/.local/share/jupyter/nbconvert/templates/base/null.j2\n",
      "    /root/.local/share/jupyter/nbconvert/templates/basic/conf.json\n",
      "    /root/.local/share/jupyter/nbconvert/templates/basic/index.html.j2\n",
      "    /root/.local/share/jupyter/nbconvert/templates/classic/base.html.j2\n",
      "    /root/.local/share/jupyter/nbconvert/templates/classic/conf.json\n",
      "    /root/.local/share/jupyter/nbconvert/templates/classic/index.html.j2\n",
      "    /root/.local/share/jupyter/nbconvert/templates/classic/static/style.css\n",
      "    /root/.local/share/jupyter/nbconvert/templates/compatibility/display_priority.tpl\n",
      "    /root/.local/share/jupyter/nbconvert/templates/compatibility/full.tpl\n",
      "    /root/.local/share/jupyter/nbconvert/templates/lab/base.html.j2\n",
      "    /root/.local/share/jupyter/nbconvert/templates/lab/conf.json\n",
      "    /root/.local/share/jupyter/nbconvert/templates/lab/index.html.j2\n",
      "    /root/.local/share/jupyter/nbconvert/templates/lab/mermaidjs.html.j2\n",
      "    /root/.local/share/jupyter/nbconvert/templates/lab/static/index.css\n",
      "    /root/.local/share/jupyter/nbconvert/templates/lab/static/theme-dark.css\n",
      "    /root/.local/share/jupyter/nbconvert/templates/lab/static/theme-light.css\n",
      "    /root/.local/share/jupyter/nbconvert/templates/latex/base.tex.j2\n",
      "    /root/.local/share/jupyter/nbconvert/templates/latex/conf.json\n",
      "    /root/.local/share/jupyter/nbconvert/templates/latex/display_priority.j2\n",
      "    /root/.local/share/jupyter/nbconvert/templates/latex/document_contents.tex.j2\n",
      "    /root/.local/share/jupyter/nbconvert/templates/latex/index.tex.j2\n",
      "    /root/.local/share/jupyter/nbconvert/templates/latex/null.j2\n",
      "    /root/.local/share/jupyter/nbconvert/templates/latex/report.tex.j2\n",
      "    /root/.local/share/jupyter/nbconvert/templates/latex/style_bw_ipython.tex.j2\n",
      "    /root/.local/share/jupyter/nbconvert/templates/latex/style_bw_python.tex.j2\n",
      "    /root/.local/share/jupyter/nbconvert/templates/latex/style_ipython.tex.j2\n",
      "    /root/.local/share/jupyter/nbconvert/templates/latex/style_jupyter.tex.j2\n",
      "    /root/.local/share/jupyter/nbconvert/templates/latex/style_python.tex.j2\n",
      "    /root/.local/share/jupyter/nbconvert/templates/markdown/conf.json\n",
      "    /root/.local/share/jupyter/nbconvert/templates/markdown/index.md.j2\n",
      "    /root/.local/share/jupyter/nbconvert/templates/python/conf.json\n",
      "    /root/.local/share/jupyter/nbconvert/templates/python/index.py.j2\n",
      "    /root/.local/share/jupyter/nbconvert/templates/reveal/base.html.j2\n",
      "    /root/.local/share/jupyter/nbconvert/templates/reveal/cellslidedata.j2\n",
      "    /root/.local/share/jupyter/nbconvert/templates/reveal/conf.json\n",
      "    /root/.local/share/jupyter/nbconvert/templates/reveal/index.html.j2\n",
      "    /root/.local/share/jupyter/nbconvert/templates/reveal/static/custom_reveal.css\n",
      "    /root/.local/share/jupyter/nbconvert/templates/rst/conf.json\n",
      "    /root/.local/share/jupyter/nbconvert/templates/rst/index.rst.j2\n",
      "    /root/.local/share/jupyter/nbconvert/templates/script/conf.json\n",
      "    /root/.local/share/jupyter/nbconvert/templates/script/script.j2\n",
      "    /root/.local/share/jupyter/nbconvert/templates/webpdf/conf.json\n",
      "    /root/.local/share/jupyter/nbconvert/templates/webpdf/index.pdf.j2\n",
      "Proceed (y/n)? ^C\n",
      "\u001b[31mERROR: Operation cancelled by user\u001b[0m\n"
     ]
    }
   ],
   "source": [
    "!pip uninstall nbconvert"
   ]
  },
  {
   "cell_type": "code",
   "execution_count": null,
   "metadata": {},
   "outputs": [],
   "source": []
  }
 ],
 "metadata": {
  "kernelspec": {
   "display_name": "Python 3",
   "language": "python",
   "name": "python3"
  },
  "language_info": {
   "codemirror_mode": {
    "name": "ipython",
    "version": 3
   },
   "file_extension": ".py",
   "mimetype": "text/x-python",
   "name": "python",
   "nbconvert_exporter": "python",
   "pygments_lexer": "ipython3",
   "version": "3.7.6"
  },
  "widgets": {
   "application/vnd.jupyter.widget-state+json": {
    "state": {},
    "version_major": 2,
    "version_minor": 0
   }
  }
 },
 "nbformat": 4,
 "nbformat_minor": 5
}
